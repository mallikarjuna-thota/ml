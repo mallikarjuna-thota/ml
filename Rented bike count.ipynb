{
 "cells": [
  {
   "cell_type": "code",
   "execution_count": 1,
   "id": "israeli-equality",
   "metadata": {},
   "outputs": [],
   "source": [
    "import numpy as np\n",
    "import pandas as pd\n",
    "import matplotlib.pyplot as plt"
   ]
  },
  {
   "cell_type": "code",
   "execution_count": 2,
   "id": "cheap-oakland",
   "metadata": {},
   "outputs": [],
   "source": [
    "data=pd.read_excel(\"C:\\\\Users\\\\HP\\\\DS python\\\\data sets\\\\seoul_bike_count.xlsx\")"
   ]
  },
  {
   "cell_type": "code",
   "execution_count": 3,
   "id": "norwegian-environment",
   "metadata": {},
   "outputs": [
    {
     "data": {
      "text/html": [
       "<div>\n",
       "<style scoped>\n",
       "    .dataframe tbody tr th:only-of-type {\n",
       "        vertical-align: middle;\n",
       "    }\n",
       "\n",
       "    .dataframe tbody tr th {\n",
       "        vertical-align: top;\n",
       "    }\n",
       "\n",
       "    .dataframe thead th {\n",
       "        text-align: right;\n",
       "    }\n",
       "</style>\n",
       "<table border=\"1\" class=\"dataframe\">\n",
       "  <thead>\n",
       "    <tr style=\"text-align: right;\">\n",
       "      <th></th>\n",
       "      <th>Date</th>\n",
       "      <th>Rented Bike Count</th>\n",
       "      <th>Hour</th>\n",
       "      <th>Temperature(°C)</th>\n",
       "      <th>Humidity(%)</th>\n",
       "      <th>Wind speed (m/s)</th>\n",
       "      <th>Visibility (10m)</th>\n",
       "      <th>Dew point temperature(°C)</th>\n",
       "      <th>Solar Radiation (MJ/m2)</th>\n",
       "      <th>Rainfall(mm)</th>\n",
       "      <th>Snowfall (cm)</th>\n",
       "      <th>Seasons</th>\n",
       "      <th>Holiday</th>\n",
       "      <th>Functioning Day</th>\n",
       "    </tr>\n",
       "  </thead>\n",
       "  <tbody>\n",
       "    <tr>\n",
       "      <th>0</th>\n",
       "      <td>2017-12-01</td>\n",
       "      <td>254</td>\n",
       "      <td>0</td>\n",
       "      <td>-5.2</td>\n",
       "      <td>37.0</td>\n",
       "      <td>2.2</td>\n",
       "      <td>2000.0</td>\n",
       "      <td>-17.6</td>\n",
       "      <td>0.0</td>\n",
       "      <td>0.0</td>\n",
       "      <td>0.0</td>\n",
       "      <td>Winter</td>\n",
       "      <td>No Holiday</td>\n",
       "      <td>Yes</td>\n",
       "    </tr>\n",
       "    <tr>\n",
       "      <th>1</th>\n",
       "      <td>2017-12-01</td>\n",
       "      <td>204</td>\n",
       "      <td>1</td>\n",
       "      <td>-5.5</td>\n",
       "      <td>38.0</td>\n",
       "      <td>0.8</td>\n",
       "      <td>2000.0</td>\n",
       "      <td>-17.6</td>\n",
       "      <td>0.0</td>\n",
       "      <td>0.0</td>\n",
       "      <td>0.0</td>\n",
       "      <td>Winter</td>\n",
       "      <td>No Holiday</td>\n",
       "      <td>Yes</td>\n",
       "    </tr>\n",
       "    <tr>\n",
       "      <th>2</th>\n",
       "      <td>2017-12-01</td>\n",
       "      <td>173</td>\n",
       "      <td>2</td>\n",
       "      <td>-6.0</td>\n",
       "      <td>39.0</td>\n",
       "      <td>1.0</td>\n",
       "      <td>2000.0</td>\n",
       "      <td>-17.7</td>\n",
       "      <td>0.0</td>\n",
       "      <td>0.0</td>\n",
       "      <td>0.0</td>\n",
       "      <td>Winter</td>\n",
       "      <td>No Holiday</td>\n",
       "      <td>Yes</td>\n",
       "    </tr>\n",
       "    <tr>\n",
       "      <th>3</th>\n",
       "      <td>2017-12-01</td>\n",
       "      <td>107</td>\n",
       "      <td>3</td>\n",
       "      <td>-6.2</td>\n",
       "      <td>40.0</td>\n",
       "      <td>0.9</td>\n",
       "      <td>2000.0</td>\n",
       "      <td>-17.6</td>\n",
       "      <td>0.0</td>\n",
       "      <td>0.0</td>\n",
       "      <td>0.0</td>\n",
       "      <td>Winter</td>\n",
       "      <td>No Holiday</td>\n",
       "      <td>Yes</td>\n",
       "    </tr>\n",
       "    <tr>\n",
       "      <th>4</th>\n",
       "      <td>2017-12-01</td>\n",
       "      <td>78</td>\n",
       "      <td>4</td>\n",
       "      <td>-6.0</td>\n",
       "      <td>36.0</td>\n",
       "      <td>2.3</td>\n",
       "      <td>2000.0</td>\n",
       "      <td>-18.6</td>\n",
       "      <td>0.0</td>\n",
       "      <td>0.0</td>\n",
       "      <td>0.0</td>\n",
       "      <td>Winter</td>\n",
       "      <td>No Holiday</td>\n",
       "      <td>Yes</td>\n",
       "    </tr>\n",
       "  </tbody>\n",
       "</table>\n",
       "</div>"
      ],
      "text/plain": [
       "        Date  Rented Bike Count  Hour  Temperature(°C)  Humidity(%)  \\\n",
       "0 2017-12-01                254     0             -5.2         37.0   \n",
       "1 2017-12-01                204     1             -5.5         38.0   \n",
       "2 2017-12-01                173     2             -6.0         39.0   \n",
       "3 2017-12-01                107     3             -6.2         40.0   \n",
       "4 2017-12-01                 78     4             -6.0         36.0   \n",
       "\n",
       "   Wind speed (m/s)  Visibility (10m)  Dew point temperature(°C)  \\\n",
       "0               2.2            2000.0                      -17.6   \n",
       "1               0.8            2000.0                      -17.6   \n",
       "2               1.0            2000.0                      -17.7   \n",
       "3               0.9            2000.0                      -17.6   \n",
       "4               2.3            2000.0                      -18.6   \n",
       "\n",
       "   Solar Radiation (MJ/m2)  Rainfall(mm)  Snowfall (cm) Seasons     Holiday  \\\n",
       "0                      0.0           0.0            0.0  Winter  No Holiday   \n",
       "1                      0.0           0.0            0.0  Winter  No Holiday   \n",
       "2                      0.0           0.0            0.0  Winter  No Holiday   \n",
       "3                      0.0           0.0            0.0  Winter  No Holiday   \n",
       "4                      0.0           0.0            0.0  Winter  No Holiday   \n",
       "\n",
       "  Functioning Day  \n",
       "0             Yes  \n",
       "1             Yes  \n",
       "2             Yes  \n",
       "3             Yes  \n",
       "4             Yes  "
      ]
     },
     "execution_count": 3,
     "metadata": {},
     "output_type": "execute_result"
    }
   ],
   "source": [
    "data.head()"
   ]
  },
  {
   "cell_type": "code",
   "execution_count": 4,
   "id": "boxed-cattle",
   "metadata": {},
   "outputs": [
    {
     "data": {
      "text/plain": [
       "Date                          0\n",
       "Rented Bike Count             0\n",
       "Hour                          0\n",
       "Temperature(°C)               0\n",
       "Humidity(%)                   5\n",
       "Wind speed (m/s)             37\n",
       "Visibility (10m)             51\n",
       "Dew point temperature(°C)     0\n",
       "Solar Radiation (MJ/m2)       0\n",
       "Rainfall(mm)                  0\n",
       "Snowfall (cm)                 0\n",
       "Seasons                      28\n",
       "Holiday                       0\n",
       "Functioning Day               0\n",
       "dtype: int64"
      ]
     },
     "execution_count": 4,
     "metadata": {},
     "output_type": "execute_result"
    }
   ],
   "source": [
    "data.isnull().sum()"
   ]
  },
  {
   "cell_type": "code",
   "execution_count": 5,
   "id": "fitting-slovenia",
   "metadata": {},
   "outputs": [],
   "source": [
    "def find_missing_seasons(x,y):\n",
    "    lst=[]\n",
    "    i=0\n",
    "    while(i<len(x)):\n",
    "        if(pd.isnull(x[i])):\n",
    "            if((y[i]==\"03\") | (y[i]==\"04\") | (y[i]==\"05\")):\n",
    "                lst.append(\"Spring\")\n",
    "            elif((y[i]==\"06\") | (y[i]==\"07\") | (y[i]==\"08\")):\n",
    "                lst.append(\"Summer\")\n",
    "            elif((y[i]==\"09\") | (y[i]==\"10\") | (y[i]==\"11\")):\n",
    "                lst.append(\"Autumn\")\n",
    "            else:\n",
    "                lst.append(\"Winter\")\n",
    "        else:\n",
    "            lst.append(x[i])\n",
    "        i=i+1\n",
    "    return lst"
   ]
  },
  {
   "cell_type": "code",
   "execution_count": 6,
   "id": "distributed-tolerance",
   "metadata": {},
   "outputs": [],
   "source": [
    "data[\"Seasons\"] = find_missing_seasons(data[\"Seasons\"],data[\"Date\"].astype('str'))"
   ]
  },
  {
   "cell_type": "code",
   "execution_count": 7,
   "id": "closed-income",
   "metadata": {},
   "outputs": [
    {
     "data": {
      "text/plain": [
       "Spring    2202\n",
       "Summer    2199\n",
       "Winter    2188\n",
       "Autumn    2171\n",
       "Name: Seasons, dtype: int64"
      ]
     },
     "execution_count": 7,
     "metadata": {},
     "output_type": "execute_result"
    }
   ],
   "source": [
    "data[\"Seasons\"].value_counts()"
   ]
  },
  {
   "cell_type": "code",
   "execution_count": 8,
   "id": "weighted-leather",
   "metadata": {},
   "outputs": [],
   "source": [
    "data=data.drop(\"Date\",axis=1)"
   ]
  },
  {
   "cell_type": "code",
   "execution_count": 9,
   "id": "binding-painting",
   "metadata": {},
   "outputs": [
    {
     "data": {
      "text/html": [
       "<div>\n",
       "<style scoped>\n",
       "    .dataframe tbody tr th:only-of-type {\n",
       "        vertical-align: middle;\n",
       "    }\n",
       "\n",
       "    .dataframe tbody tr th {\n",
       "        vertical-align: top;\n",
       "    }\n",
       "\n",
       "    .dataframe thead th {\n",
       "        text-align: right;\n",
       "    }\n",
       "</style>\n",
       "<table border=\"1\" class=\"dataframe\">\n",
       "  <thead>\n",
       "    <tr style=\"text-align: right;\">\n",
       "      <th></th>\n",
       "      <th>Rented Bike Count</th>\n",
       "      <th>Hour</th>\n",
       "      <th>Temperature(°C)</th>\n",
       "      <th>Humidity(%)</th>\n",
       "      <th>Wind speed (m/s)</th>\n",
       "      <th>Visibility (10m)</th>\n",
       "      <th>Dew point temperature(°C)</th>\n",
       "      <th>Solar Radiation (MJ/m2)</th>\n",
       "      <th>Rainfall(mm)</th>\n",
       "      <th>Snowfall (cm)</th>\n",
       "      <th>Seasons</th>\n",
       "      <th>Holiday</th>\n",
       "      <th>Functioning Day</th>\n",
       "    </tr>\n",
       "  </thead>\n",
       "  <tbody>\n",
       "    <tr>\n",
       "      <th>0</th>\n",
       "      <td>254</td>\n",
       "      <td>0</td>\n",
       "      <td>-5.2</td>\n",
       "      <td>37.0</td>\n",
       "      <td>2.2</td>\n",
       "      <td>2000.0</td>\n",
       "      <td>-17.6</td>\n",
       "      <td>0.0</td>\n",
       "      <td>0.0</td>\n",
       "      <td>0.0</td>\n",
       "      <td>Winter</td>\n",
       "      <td>No Holiday</td>\n",
       "      <td>Yes</td>\n",
       "    </tr>\n",
       "    <tr>\n",
       "      <th>1</th>\n",
       "      <td>204</td>\n",
       "      <td>1</td>\n",
       "      <td>-5.5</td>\n",
       "      <td>38.0</td>\n",
       "      <td>0.8</td>\n",
       "      <td>2000.0</td>\n",
       "      <td>-17.6</td>\n",
       "      <td>0.0</td>\n",
       "      <td>0.0</td>\n",
       "      <td>0.0</td>\n",
       "      <td>Winter</td>\n",
       "      <td>No Holiday</td>\n",
       "      <td>Yes</td>\n",
       "    </tr>\n",
       "    <tr>\n",
       "      <th>2</th>\n",
       "      <td>173</td>\n",
       "      <td>2</td>\n",
       "      <td>-6.0</td>\n",
       "      <td>39.0</td>\n",
       "      <td>1.0</td>\n",
       "      <td>2000.0</td>\n",
       "      <td>-17.7</td>\n",
       "      <td>0.0</td>\n",
       "      <td>0.0</td>\n",
       "      <td>0.0</td>\n",
       "      <td>Winter</td>\n",
       "      <td>No Holiday</td>\n",
       "      <td>Yes</td>\n",
       "    </tr>\n",
       "    <tr>\n",
       "      <th>3</th>\n",
       "      <td>107</td>\n",
       "      <td>3</td>\n",
       "      <td>-6.2</td>\n",
       "      <td>40.0</td>\n",
       "      <td>0.9</td>\n",
       "      <td>2000.0</td>\n",
       "      <td>-17.6</td>\n",
       "      <td>0.0</td>\n",
       "      <td>0.0</td>\n",
       "      <td>0.0</td>\n",
       "      <td>Winter</td>\n",
       "      <td>No Holiday</td>\n",
       "      <td>Yes</td>\n",
       "    </tr>\n",
       "    <tr>\n",
       "      <th>4</th>\n",
       "      <td>78</td>\n",
       "      <td>4</td>\n",
       "      <td>-6.0</td>\n",
       "      <td>36.0</td>\n",
       "      <td>2.3</td>\n",
       "      <td>2000.0</td>\n",
       "      <td>-18.6</td>\n",
       "      <td>0.0</td>\n",
       "      <td>0.0</td>\n",
       "      <td>0.0</td>\n",
       "      <td>Winter</td>\n",
       "      <td>No Holiday</td>\n",
       "      <td>Yes</td>\n",
       "    </tr>\n",
       "  </tbody>\n",
       "</table>\n",
       "</div>"
      ],
      "text/plain": [
       "   Rented Bike Count  Hour  Temperature(°C)  Humidity(%)  Wind speed (m/s)  \\\n",
       "0                254     0             -5.2         37.0               2.2   \n",
       "1                204     1             -5.5         38.0               0.8   \n",
       "2                173     2             -6.0         39.0               1.0   \n",
       "3                107     3             -6.2         40.0               0.9   \n",
       "4                 78     4             -6.0         36.0               2.3   \n",
       "\n",
       "   Visibility (10m)  Dew point temperature(°C)  Solar Radiation (MJ/m2)  \\\n",
       "0            2000.0                      -17.6                      0.0   \n",
       "1            2000.0                      -17.6                      0.0   \n",
       "2            2000.0                      -17.7                      0.0   \n",
       "3            2000.0                      -17.6                      0.0   \n",
       "4            2000.0                      -18.6                      0.0   \n",
       "\n",
       "   Rainfall(mm)  Snowfall (cm) Seasons     Holiday Functioning Day  \n",
       "0           0.0            0.0  Winter  No Holiday             Yes  \n",
       "1           0.0            0.0  Winter  No Holiday             Yes  \n",
       "2           0.0            0.0  Winter  No Holiday             Yes  \n",
       "3           0.0            0.0  Winter  No Holiday             Yes  \n",
       "4           0.0            0.0  Winter  No Holiday             Yes  "
      ]
     },
     "execution_count": 9,
     "metadata": {},
     "output_type": "execute_result"
    }
   ],
   "source": [
    "data.head()"
   ]
  },
  {
   "cell_type": "code",
   "execution_count": 10,
   "id": "crazy-blood",
   "metadata": {},
   "outputs": [],
   "source": [
    "from sklearn.preprocessing import LabelEncoder\n",
    "labelencoder = LabelEncoder()\n",
    "data.iloc[:, 11] = labelencoder.fit_transform(data.iloc[:, 11])\n",
    "data.iloc[:, 12] = labelencoder.fit_transform(data.iloc[:, 12])\n"
   ]
  },
  {
   "cell_type": "code",
   "execution_count": 11,
   "id": "controlling-customs",
   "metadata": {},
   "outputs": [],
   "source": [
    "#data[\"Humidity(%)\"] = data[\"Humidity(%)\"].fillna(data[\"Humidity(%)\"].mean())\n",
    "#data[\"Wind speed (m/s)\"] = data[\"Wind speed (m/s)\"].fillna(data[\"Wind speed (m/s)\"].mean())\n",
    "#data[\"Visibility (10m)\"] = data[\"Visibility (10m)\"].fillna(data[\"Visibility (10m)\"].mean())"
   ]
  },
  {
   "cell_type": "code",
   "execution_count": 12,
   "id": "personalized-collector",
   "metadata": {},
   "outputs": [
    {
     "data": {
      "text/plain": [
       "Spring    2202\n",
       "Summer    2199\n",
       "Winter    2188\n",
       "Autumn    2171\n",
       "Name: Seasons, dtype: int64"
      ]
     },
     "execution_count": 12,
     "metadata": {},
     "output_type": "execute_result"
    }
   ],
   "source": [
    "data[\"Seasons\"].value_counts()"
   ]
  },
  {
   "cell_type": "code",
   "execution_count": 13,
   "id": "strong-antibody",
   "metadata": {},
   "outputs": [],
   "source": [
    "d1=data[data[\"Seasons\"]==\"Spring\"]\n",
    "d2=data[data[\"Seasons\"]==\"Summer\"]\n",
    "d3=data[data[\"Seasons\"]==\"Winter\"]\n",
    "d4=data[data[\"Seasons\"]==\"Autumn\"]"
   ]
  },
  {
   "cell_type": "code",
   "execution_count": 14,
   "id": "precise-colorado",
   "metadata": {},
   "outputs": [
    {
     "name": "stderr",
     "output_type": "stream",
     "text": [
      "<ipython-input-14-379ef8d14464>:1: SettingWithCopyWarning: \n",
      "A value is trying to be set on a copy of a slice from a DataFrame.\n",
      "Try using .loc[row_indexer,col_indexer] = value instead\n",
      "\n",
      "See the caveats in the documentation: https://pandas.pydata.org/pandas-docs/stable/user_guide/indexing.html#returning-a-view-versus-a-copy\n",
      "  d1[\"Humidity(%)\"] = d1[\"Humidity(%)\"].fillna(d1[\"Humidity(%)\"].mean())\n",
      "<ipython-input-14-379ef8d14464>:2: SettingWithCopyWarning: \n",
      "A value is trying to be set on a copy of a slice from a DataFrame.\n",
      "Try using .loc[row_indexer,col_indexer] = value instead\n",
      "\n",
      "See the caveats in the documentation: https://pandas.pydata.org/pandas-docs/stable/user_guide/indexing.html#returning-a-view-versus-a-copy\n",
      "  d2[\"Humidity(%)\"] = d2[\"Humidity(%)\"].fillna(d2[\"Humidity(%)\"].mean())\n",
      "<ipython-input-14-379ef8d14464>:3: SettingWithCopyWarning: \n",
      "A value is trying to be set on a copy of a slice from a DataFrame.\n",
      "Try using .loc[row_indexer,col_indexer] = value instead\n",
      "\n",
      "See the caveats in the documentation: https://pandas.pydata.org/pandas-docs/stable/user_guide/indexing.html#returning-a-view-versus-a-copy\n",
      "  d3[\"Humidity(%)\"] = d3[\"Humidity(%)\"].fillna(d3[\"Humidity(%)\"].mean())\n",
      "<ipython-input-14-379ef8d14464>:4: SettingWithCopyWarning: \n",
      "A value is trying to be set on a copy of a slice from a DataFrame.\n",
      "Try using .loc[row_indexer,col_indexer] = value instead\n",
      "\n",
      "See the caveats in the documentation: https://pandas.pydata.org/pandas-docs/stable/user_guide/indexing.html#returning-a-view-versus-a-copy\n",
      "  d4[\"Humidity(%)\"] = d4[\"Humidity(%)\"].fillna(d4[\"Humidity(%)\"].mean())\n"
     ]
    }
   ],
   "source": [
    "d1[\"Humidity(%)\"] = d1[\"Humidity(%)\"].fillna(d1[\"Humidity(%)\"].mean())\n",
    "d2[\"Humidity(%)\"] = d2[\"Humidity(%)\"].fillna(d2[\"Humidity(%)\"].mean())\n",
    "d3[\"Humidity(%)\"] = d3[\"Humidity(%)\"].fillna(d3[\"Humidity(%)\"].mean())\n",
    "d4[\"Humidity(%)\"] = d4[\"Humidity(%)\"].fillna(d4[\"Humidity(%)\"].mean())"
   ]
  },
  {
   "cell_type": "code",
   "execution_count": 15,
   "id": "nearby-license",
   "metadata": {},
   "outputs": [
    {
     "name": "stderr",
     "output_type": "stream",
     "text": [
      "<ipython-input-15-1a898f27048c>:1: SettingWithCopyWarning: \n",
      "A value is trying to be set on a copy of a slice from a DataFrame.\n",
      "Try using .loc[row_indexer,col_indexer] = value instead\n",
      "\n",
      "See the caveats in the documentation: https://pandas.pydata.org/pandas-docs/stable/user_guide/indexing.html#returning-a-view-versus-a-copy\n",
      "  d1[\"Wind speed (m/s)\"] = d1[\"Wind speed (m/s)\"].fillna(d1[\"Wind speed (m/s)\"].mean())\n",
      "<ipython-input-15-1a898f27048c>:2: SettingWithCopyWarning: \n",
      "A value is trying to be set on a copy of a slice from a DataFrame.\n",
      "Try using .loc[row_indexer,col_indexer] = value instead\n",
      "\n",
      "See the caveats in the documentation: https://pandas.pydata.org/pandas-docs/stable/user_guide/indexing.html#returning-a-view-versus-a-copy\n",
      "  d2[\"Wind speed (m/s)\"] = d2[\"Wind speed (m/s)\"].fillna(d2[\"Wind speed (m/s)\"].mean())\n",
      "<ipython-input-15-1a898f27048c>:3: SettingWithCopyWarning: \n",
      "A value is trying to be set on a copy of a slice from a DataFrame.\n",
      "Try using .loc[row_indexer,col_indexer] = value instead\n",
      "\n",
      "See the caveats in the documentation: https://pandas.pydata.org/pandas-docs/stable/user_guide/indexing.html#returning-a-view-versus-a-copy\n",
      "  d3[\"Wind speed (m/s)\"] = d3[\"Wind speed (m/s)\"].fillna(d3[\"Wind speed (m/s)\"].mean())\n",
      "<ipython-input-15-1a898f27048c>:4: SettingWithCopyWarning: \n",
      "A value is trying to be set on a copy of a slice from a DataFrame.\n",
      "Try using .loc[row_indexer,col_indexer] = value instead\n",
      "\n",
      "See the caveats in the documentation: https://pandas.pydata.org/pandas-docs/stable/user_guide/indexing.html#returning-a-view-versus-a-copy\n",
      "  d4[\"Wind speed (m/s)\"] = d4[\"Wind speed (m/s)\"].fillna(d4[\"Wind speed (m/s)\"].mean())\n"
     ]
    }
   ],
   "source": [
    "d1[\"Wind speed (m/s)\"] = d1[\"Wind speed (m/s)\"].fillna(d1[\"Wind speed (m/s)\"].mean())\n",
    "d2[\"Wind speed (m/s)\"] = d2[\"Wind speed (m/s)\"].fillna(d2[\"Wind speed (m/s)\"].mean())\n",
    "d3[\"Wind speed (m/s)\"] = d3[\"Wind speed (m/s)\"].fillna(d3[\"Wind speed (m/s)\"].mean())\n",
    "d4[\"Wind speed (m/s)\"] = d4[\"Wind speed (m/s)\"].fillna(d4[\"Wind speed (m/s)\"].mean())"
   ]
  },
  {
   "cell_type": "code",
   "execution_count": 16,
   "id": "human-graph",
   "metadata": {},
   "outputs": [
    {
     "name": "stderr",
     "output_type": "stream",
     "text": [
      "<ipython-input-16-dcae197560f0>:1: SettingWithCopyWarning: \n",
      "A value is trying to be set on a copy of a slice from a DataFrame.\n",
      "Try using .loc[row_indexer,col_indexer] = value instead\n",
      "\n",
      "See the caveats in the documentation: https://pandas.pydata.org/pandas-docs/stable/user_guide/indexing.html#returning-a-view-versus-a-copy\n",
      "  d1[\"Visibility (10m)\"] = d1[\"Visibility (10m)\"].fillna(d1[\"Visibility (10m)\"].mean())\n",
      "<ipython-input-16-dcae197560f0>:2: SettingWithCopyWarning: \n",
      "A value is trying to be set on a copy of a slice from a DataFrame.\n",
      "Try using .loc[row_indexer,col_indexer] = value instead\n",
      "\n",
      "See the caveats in the documentation: https://pandas.pydata.org/pandas-docs/stable/user_guide/indexing.html#returning-a-view-versus-a-copy\n",
      "  d2[\"Visibility (10m)\"] = d2[\"Visibility (10m)\"].fillna(d2[\"Visibility (10m)\"].mean())\n",
      "<ipython-input-16-dcae197560f0>:3: SettingWithCopyWarning: \n",
      "A value is trying to be set on a copy of a slice from a DataFrame.\n",
      "Try using .loc[row_indexer,col_indexer] = value instead\n",
      "\n",
      "See the caveats in the documentation: https://pandas.pydata.org/pandas-docs/stable/user_guide/indexing.html#returning-a-view-versus-a-copy\n",
      "  d3[\"Visibility (10m)\"] = d3[\"Visibility (10m)\"].fillna(d3[\"Visibility (10m)\"].mean())\n",
      "<ipython-input-16-dcae197560f0>:4: SettingWithCopyWarning: \n",
      "A value is trying to be set on a copy of a slice from a DataFrame.\n",
      "Try using .loc[row_indexer,col_indexer] = value instead\n",
      "\n",
      "See the caveats in the documentation: https://pandas.pydata.org/pandas-docs/stable/user_guide/indexing.html#returning-a-view-versus-a-copy\n",
      "  d4[\"Visibility (10m)\"] = d4[\"Visibility (10m)\"].fillna(d4[\"Visibility (10m)\"].mean())\n"
     ]
    }
   ],
   "source": [
    "d1[\"Visibility (10m)\"] = d1[\"Visibility (10m)\"].fillna(d1[\"Visibility (10m)\"].mean())\n",
    "d2[\"Visibility (10m)\"] = d2[\"Visibility (10m)\"].fillna(d2[\"Visibility (10m)\"].mean())\n",
    "d3[\"Visibility (10m)\"] = d3[\"Visibility (10m)\"].fillna(d3[\"Visibility (10m)\"].mean())\n",
    "d4[\"Visibility (10m)\"] = d4[\"Visibility (10m)\"].fillna(d4[\"Visibility (10m)\"].mean())"
   ]
  },
  {
   "cell_type": "code",
   "execution_count": 17,
   "id": "ruled-inside",
   "metadata": {},
   "outputs": [],
   "source": [
    "data = pd.concat((d1,d2,d3,d4),axis=0,join='outer',ignore_index=False,\n",
    "                  keys=None,levels=None,names=None,verify_integrity=False,copy=True)"
   ]
  },
  {
   "cell_type": "code",
   "execution_count": 18,
   "id": "pharmaceutical-special",
   "metadata": {},
   "outputs": [
    {
     "data": {
      "text/plain": [
       "Rented Bike Count            0\n",
       "Hour                         0\n",
       "Temperature(°C)              0\n",
       "Humidity(%)                  0\n",
       "Wind speed (m/s)             0\n",
       "Visibility (10m)             0\n",
       "Dew point temperature(°C)    0\n",
       "Solar Radiation (MJ/m2)      0\n",
       "Rainfall(mm)                 0\n",
       "Snowfall (cm)                0\n",
       "Seasons                      0\n",
       "Holiday                      0\n",
       "Functioning Day              0\n",
       "dtype: int64"
      ]
     },
     "execution_count": 18,
     "metadata": {},
     "output_type": "execute_result"
    }
   ],
   "source": [
    "data.isnull().sum()"
   ]
  },
  {
   "cell_type": "code",
   "execution_count": 19,
   "id": "equipped-liver",
   "metadata": {},
   "outputs": [],
   "source": [
    "def find_missing_humidity(x,y):\n",
    "    lst=[]\n",
    "    i=0\n",
    "    while(i<len(x)):\n",
    "        if(pd.isnull(x[i])):\n",
    "            if((y[i]==\"03\") | (y[i]==\"04\") | (y[i]==\"05\")):\n",
    "                lst.append(\"Spring\")\n",
    "            elif((y[i]==\"06\") | (y[i]==\"07\") | (y[i]==\"08\")):\n",
    "                lst.append(\"Summer\")\n",
    "            elif((y[i]==\"09\") | (y[i]==\"10\") | (y[i]==\"11\")):\n",
    "                lst.append(\"Autumn\")\n",
    "            else:\n",
    "                lst.append(\"Winter\")\n",
    "        else:\n",
    "            lst.append(x[i])\n",
    "        i=i+1\n",
    "    return lst"
   ]
  },
  {
   "cell_type": "code",
   "execution_count": 20,
   "id": "foster-quarterly",
   "metadata": {},
   "outputs": [
    {
     "data": {
      "text/plain": [
       "Int64Index([], dtype='int64')"
      ]
     },
     "execution_count": 20,
     "metadata": {},
     "output_type": "execute_result"
    }
   ],
   "source": [
    "x=data[(data[\"Humidity(%)\"].isnull())].index\n",
    "x"
   ]
  },
  {
   "cell_type": "code",
   "execution_count": 21,
   "id": "racial-publication",
   "metadata": {},
   "outputs": [
    {
     "data": {
      "text/html": [
       "<div>\n",
       "<style scoped>\n",
       "    .dataframe tbody tr th:only-of-type {\n",
       "        vertical-align: middle;\n",
       "    }\n",
       "\n",
       "    .dataframe tbody tr th {\n",
       "        vertical-align: top;\n",
       "    }\n",
       "\n",
       "    .dataframe thead th {\n",
       "        text-align: right;\n",
       "    }\n",
       "</style>\n",
       "<table border=\"1\" class=\"dataframe\">\n",
       "  <thead>\n",
       "    <tr style=\"text-align: right;\">\n",
       "      <th></th>\n",
       "      <th>Rented Bike Count</th>\n",
       "      <th>Hour</th>\n",
       "      <th>Temperature(°C)</th>\n",
       "      <th>Humidity(%)</th>\n",
       "      <th>Wind speed (m/s)</th>\n",
       "      <th>Visibility (10m)</th>\n",
       "      <th>Dew point temperature(°C)</th>\n",
       "      <th>Solar Radiation (MJ/m2)</th>\n",
       "      <th>Rainfall(mm)</th>\n",
       "      <th>Snowfall (cm)</th>\n",
       "      <th>Seasons</th>\n",
       "      <th>Holiday</th>\n",
       "      <th>Functioning Day</th>\n",
       "    </tr>\n",
       "  </thead>\n",
       "  <tbody>\n",
       "  </tbody>\n",
       "</table>\n",
       "</div>"
      ],
      "text/plain": [
       "Empty DataFrame\n",
       "Columns: [Rented Bike Count, Hour, Temperature(°C), Humidity(%), Wind speed (m/s), Visibility (10m), Dew point temperature(°C), Solar Radiation (MJ/m2), Rainfall(mm), Snowfall (cm), Seasons, Holiday, Functioning Day]\n",
       "Index: []"
      ]
     },
     "execution_count": 21,
     "metadata": {},
     "output_type": "execute_result"
    }
   ],
   "source": [
    "data.iloc[x,:]"
   ]
  },
  {
   "cell_type": "code",
   "execution_count": 22,
   "id": "protecting-laugh",
   "metadata": {},
   "outputs": [
    {
     "data": {
      "text/plain": [
       "Int64Index([], dtype='int64')"
      ]
     },
     "execution_count": 22,
     "metadata": {},
     "output_type": "execute_result"
    }
   ],
   "source": [
    "y=data[(data[\"Wind speed (m/s)\"].isnull())].index\n",
    "y"
   ]
  },
  {
   "cell_type": "code",
   "execution_count": 23,
   "id": "racial-onion",
   "metadata": {},
   "outputs": [
    {
     "data": {
      "text/html": [
       "<div>\n",
       "<style scoped>\n",
       "    .dataframe tbody tr th:only-of-type {\n",
       "        vertical-align: middle;\n",
       "    }\n",
       "\n",
       "    .dataframe tbody tr th {\n",
       "        vertical-align: top;\n",
       "    }\n",
       "\n",
       "    .dataframe thead th {\n",
       "        text-align: right;\n",
       "    }\n",
       "</style>\n",
       "<table border=\"1\" class=\"dataframe\">\n",
       "  <thead>\n",
       "    <tr style=\"text-align: right;\">\n",
       "      <th></th>\n",
       "      <th>Rented Bike Count</th>\n",
       "      <th>Hour</th>\n",
       "      <th>Temperature(°C)</th>\n",
       "      <th>Humidity(%)</th>\n",
       "      <th>Wind speed (m/s)</th>\n",
       "      <th>Visibility (10m)</th>\n",
       "      <th>Dew point temperature(°C)</th>\n",
       "      <th>Solar Radiation (MJ/m2)</th>\n",
       "      <th>Rainfall(mm)</th>\n",
       "      <th>Snowfall (cm)</th>\n",
       "      <th>Seasons</th>\n",
       "      <th>Holiday</th>\n",
       "      <th>Functioning Day</th>\n",
       "    </tr>\n",
       "  </thead>\n",
       "  <tbody>\n",
       "  </tbody>\n",
       "</table>\n",
       "</div>"
      ],
      "text/plain": [
       "Empty DataFrame\n",
       "Columns: [Rented Bike Count, Hour, Temperature(°C), Humidity(%), Wind speed (m/s), Visibility (10m), Dew point temperature(°C), Solar Radiation (MJ/m2), Rainfall(mm), Snowfall (cm), Seasons, Holiday, Functioning Day]\n",
       "Index: []"
      ]
     },
     "execution_count": 23,
     "metadata": {},
     "output_type": "execute_result"
    }
   ],
   "source": [
    "data.iloc[y,:]"
   ]
  },
  {
   "cell_type": "code",
   "execution_count": 24,
   "id": "synthetic-poland",
   "metadata": {},
   "outputs": [
    {
     "data": {
      "text/plain": [
       "Int64Index([], dtype='int64')"
      ]
     },
     "execution_count": 24,
     "metadata": {},
     "output_type": "execute_result"
    }
   ],
   "source": [
    "z=data[(data[\"Visibility (10m)\"].isnull())].index\n",
    "z"
   ]
  },
  {
   "cell_type": "code",
   "execution_count": 25,
   "id": "great-hometown",
   "metadata": {},
   "outputs": [
    {
     "data": {
      "text/html": [
       "<div>\n",
       "<style scoped>\n",
       "    .dataframe tbody tr th:only-of-type {\n",
       "        vertical-align: middle;\n",
       "    }\n",
       "\n",
       "    .dataframe tbody tr th {\n",
       "        vertical-align: top;\n",
       "    }\n",
       "\n",
       "    .dataframe thead th {\n",
       "        text-align: right;\n",
       "    }\n",
       "</style>\n",
       "<table border=\"1\" class=\"dataframe\">\n",
       "  <thead>\n",
       "    <tr style=\"text-align: right;\">\n",
       "      <th></th>\n",
       "      <th>Rented Bike Count</th>\n",
       "      <th>Hour</th>\n",
       "      <th>Temperature(°C)</th>\n",
       "      <th>Humidity(%)</th>\n",
       "      <th>Wind speed (m/s)</th>\n",
       "      <th>Visibility (10m)</th>\n",
       "      <th>Dew point temperature(°C)</th>\n",
       "      <th>Solar Radiation (MJ/m2)</th>\n",
       "      <th>Rainfall(mm)</th>\n",
       "      <th>Snowfall (cm)</th>\n",
       "      <th>Seasons</th>\n",
       "      <th>Holiday</th>\n",
       "      <th>Functioning Day</th>\n",
       "    </tr>\n",
       "  </thead>\n",
       "  <tbody>\n",
       "  </tbody>\n",
       "</table>\n",
       "</div>"
      ],
      "text/plain": [
       "Empty DataFrame\n",
       "Columns: [Rented Bike Count, Hour, Temperature(°C), Humidity(%), Wind speed (m/s), Visibility (10m), Dew point temperature(°C), Solar Radiation (MJ/m2), Rainfall(mm), Snowfall (cm), Seasons, Holiday, Functioning Day]\n",
       "Index: []"
      ]
     },
     "execution_count": 25,
     "metadata": {},
     "output_type": "execute_result"
    }
   ],
   "source": [
    "data.iloc[z,:]"
   ]
  },
  {
   "cell_type": "code",
   "execution_count": 26,
   "id": "based-treat",
   "metadata": {},
   "outputs": [
    {
     "data": {
      "text/plain": [
       "Int64Index([], dtype='int64')"
      ]
     },
     "execution_count": 26,
     "metadata": {},
     "output_type": "execute_result"
    }
   ],
   "source": [
    "p=data[(data[\"Seasons\"].isnull())].index\n",
    "p"
   ]
  },
  {
   "cell_type": "code",
   "execution_count": 27,
   "id": "intermediate-cuisine",
   "metadata": {},
   "outputs": [
    {
     "data": {
      "text/html": [
       "<div>\n",
       "<style scoped>\n",
       "    .dataframe tbody tr th:only-of-type {\n",
       "        vertical-align: middle;\n",
       "    }\n",
       "\n",
       "    .dataframe tbody tr th {\n",
       "        vertical-align: top;\n",
       "    }\n",
       "\n",
       "    .dataframe thead th {\n",
       "        text-align: right;\n",
       "    }\n",
       "</style>\n",
       "<table border=\"1\" class=\"dataframe\">\n",
       "  <thead>\n",
       "    <tr style=\"text-align: right;\">\n",
       "      <th></th>\n",
       "      <th>Rented Bike Count</th>\n",
       "      <th>Hour</th>\n",
       "      <th>Temperature(°C)</th>\n",
       "      <th>Humidity(%)</th>\n",
       "      <th>Wind speed (m/s)</th>\n",
       "      <th>Visibility (10m)</th>\n",
       "      <th>Dew point temperature(°C)</th>\n",
       "      <th>Solar Radiation (MJ/m2)</th>\n",
       "      <th>Rainfall(mm)</th>\n",
       "      <th>Snowfall (cm)</th>\n",
       "      <th>Seasons</th>\n",
       "      <th>Holiday</th>\n",
       "      <th>Functioning Day</th>\n",
       "    </tr>\n",
       "  </thead>\n",
       "  <tbody>\n",
       "  </tbody>\n",
       "</table>\n",
       "</div>"
      ],
      "text/plain": [
       "Empty DataFrame\n",
       "Columns: [Rented Bike Count, Hour, Temperature(°C), Humidity(%), Wind speed (m/s), Visibility (10m), Dew point temperature(°C), Solar Radiation (MJ/m2), Rainfall(mm), Snowfall (cm), Seasons, Holiday, Functioning Day]\n",
       "Index: []"
      ]
     },
     "execution_count": 27,
     "metadata": {},
     "output_type": "execute_result"
    }
   ],
   "source": [
    "data.iloc[p,:]"
   ]
  },
  {
   "cell_type": "code",
   "execution_count": 28,
   "id": "likely-frame",
   "metadata": {},
   "outputs": [],
   "source": [
    "c=pd.get_dummies(data['Seasons'],drop_first=True)\n",
    "d=pd.get_dummies(data['Hour'],drop_first=True)\n",
    "data=data.drop(\"Seasons\",axis=1)\n",
    "data=data.drop(\"Hour\",axis=1)\n",
    "data = pd.concat((data,c,d),axis=1,join='outer',ignore_index=False,\n",
    "                  keys=None,levels=None,names=None,verify_integrity=False,copy=True)"
   ]
  },
  {
   "cell_type": "code",
   "execution_count": 29,
   "id": "unusual-march",
   "metadata": {},
   "outputs": [
    {
     "data": {
      "text/html": [
       "<div>\n",
       "<style scoped>\n",
       "    .dataframe tbody tr th:only-of-type {\n",
       "        vertical-align: middle;\n",
       "    }\n",
       "\n",
       "    .dataframe tbody tr th {\n",
       "        vertical-align: top;\n",
       "    }\n",
       "\n",
       "    .dataframe thead th {\n",
       "        text-align: right;\n",
       "    }\n",
       "</style>\n",
       "<table border=\"1\" class=\"dataframe\">\n",
       "  <thead>\n",
       "    <tr style=\"text-align: right;\">\n",
       "      <th></th>\n",
       "      <th>Rented Bike Count</th>\n",
       "      <th>Temperature(°C)</th>\n",
       "      <th>Humidity(%)</th>\n",
       "      <th>Wind speed (m/s)</th>\n",
       "      <th>Visibility (10m)</th>\n",
       "      <th>Dew point temperature(°C)</th>\n",
       "      <th>Solar Radiation (MJ/m2)</th>\n",
       "      <th>Rainfall(mm)</th>\n",
       "      <th>Snowfall (cm)</th>\n",
       "      <th>Holiday</th>\n",
       "      <th>...</th>\n",
       "      <th>14</th>\n",
       "      <th>15</th>\n",
       "      <th>16</th>\n",
       "      <th>17</th>\n",
       "      <th>18</th>\n",
       "      <th>19</th>\n",
       "      <th>20</th>\n",
       "      <th>21</th>\n",
       "      <th>22</th>\n",
       "      <th>23</th>\n",
       "    </tr>\n",
       "  </thead>\n",
       "  <tbody>\n",
       "    <tr>\n",
       "      <th>2160</th>\n",
       "      <td>71</td>\n",
       "      <td>2.0</td>\n",
       "      <td>96.0</td>\n",
       "      <td>1.3</td>\n",
       "      <td>1894.0</td>\n",
       "      <td>1.4</td>\n",
       "      <td>0.0</td>\n",
       "      <td>2.0</td>\n",
       "      <td>0.0</td>\n",
       "      <td>0</td>\n",
       "      <td>...</td>\n",
       "      <td>0</td>\n",
       "      <td>0</td>\n",
       "      <td>0</td>\n",
       "      <td>0</td>\n",
       "      <td>0</td>\n",
       "      <td>0</td>\n",
       "      <td>0</td>\n",
       "      <td>0</td>\n",
       "      <td>0</td>\n",
       "      <td>0</td>\n",
       "    </tr>\n",
       "    <tr>\n",
       "      <th>2161</th>\n",
       "      <td>147</td>\n",
       "      <td>2.1</td>\n",
       "      <td>97.0</td>\n",
       "      <td>0.2</td>\n",
       "      <td>859.0</td>\n",
       "      <td>1.6</td>\n",
       "      <td>0.0</td>\n",
       "      <td>0.0</td>\n",
       "      <td>0.0</td>\n",
       "      <td>0</td>\n",
       "      <td>...</td>\n",
       "      <td>0</td>\n",
       "      <td>0</td>\n",
       "      <td>0</td>\n",
       "      <td>0</td>\n",
       "      <td>0</td>\n",
       "      <td>0</td>\n",
       "      <td>0</td>\n",
       "      <td>0</td>\n",
       "      <td>0</td>\n",
       "      <td>0</td>\n",
       "    </tr>\n",
       "    <tr>\n",
       "      <th>2162</th>\n",
       "      <td>180</td>\n",
       "      <td>2.0</td>\n",
       "      <td>97.0</td>\n",
       "      <td>1.0</td>\n",
       "      <td>580.0</td>\n",
       "      <td>1.5</td>\n",
       "      <td>0.0</td>\n",
       "      <td>0.0</td>\n",
       "      <td>0.0</td>\n",
       "      <td>0</td>\n",
       "      <td>...</td>\n",
       "      <td>0</td>\n",
       "      <td>0</td>\n",
       "      <td>0</td>\n",
       "      <td>0</td>\n",
       "      <td>0</td>\n",
       "      <td>0</td>\n",
       "      <td>0</td>\n",
       "      <td>0</td>\n",
       "      <td>0</td>\n",
       "      <td>0</td>\n",
       "    </tr>\n",
       "    <tr>\n",
       "      <th>2163</th>\n",
       "      <td>92</td>\n",
       "      <td>1.6</td>\n",
       "      <td>97.0</td>\n",
       "      <td>2.3</td>\n",
       "      <td>469.0</td>\n",
       "      <td>1.1</td>\n",
       "      <td>0.0</td>\n",
       "      <td>0.1</td>\n",
       "      <td>0.0</td>\n",
       "      <td>0</td>\n",
       "      <td>...</td>\n",
       "      <td>0</td>\n",
       "      <td>0</td>\n",
       "      <td>0</td>\n",
       "      <td>0</td>\n",
       "      <td>0</td>\n",
       "      <td>0</td>\n",
       "      <td>0</td>\n",
       "      <td>0</td>\n",
       "      <td>0</td>\n",
       "      <td>0</td>\n",
       "    </tr>\n",
       "    <tr>\n",
       "      <th>2164</th>\n",
       "      <td>28</td>\n",
       "      <td>1.6</td>\n",
       "      <td>97.0</td>\n",
       "      <td>1.1</td>\n",
       "      <td>636.0</td>\n",
       "      <td>1.1</td>\n",
       "      <td>0.0</td>\n",
       "      <td>0.0</td>\n",
       "      <td>0.0</td>\n",
       "      <td>0</td>\n",
       "      <td>...</td>\n",
       "      <td>0</td>\n",
       "      <td>0</td>\n",
       "      <td>0</td>\n",
       "      <td>0</td>\n",
       "      <td>0</td>\n",
       "      <td>0</td>\n",
       "      <td>0</td>\n",
       "      <td>0</td>\n",
       "      <td>0</td>\n",
       "      <td>0</td>\n",
       "    </tr>\n",
       "  </tbody>\n",
       "</table>\n",
       "<p>5 rows × 37 columns</p>\n",
       "</div>"
      ],
      "text/plain": [
       "      Rented Bike Count  Temperature(°C)  Humidity(%)  Wind speed (m/s)  \\\n",
       "2160                 71              2.0         96.0               1.3   \n",
       "2161                147              2.1         97.0               0.2   \n",
       "2162                180              2.0         97.0               1.0   \n",
       "2163                 92              1.6         97.0               2.3   \n",
       "2164                 28              1.6         97.0               1.1   \n",
       "\n",
       "      Visibility (10m)  Dew point temperature(°C)  Solar Radiation (MJ/m2)  \\\n",
       "2160            1894.0                        1.4                      0.0   \n",
       "2161             859.0                        1.6                      0.0   \n",
       "2162             580.0                        1.5                      0.0   \n",
       "2163             469.0                        1.1                      0.0   \n",
       "2164             636.0                        1.1                      0.0   \n",
       "\n",
       "      Rainfall(mm)  Snowfall (cm)  Holiday  ...  14  15  16  17  18  19  20  \\\n",
       "2160           2.0            0.0        0  ...   0   0   0   0   0   0   0   \n",
       "2161           0.0            0.0        0  ...   0   0   0   0   0   0   0   \n",
       "2162           0.0            0.0        0  ...   0   0   0   0   0   0   0   \n",
       "2163           0.1            0.0        0  ...   0   0   0   0   0   0   0   \n",
       "2164           0.0            0.0        0  ...   0   0   0   0   0   0   0   \n",
       "\n",
       "      21  22  23  \n",
       "2160   0   0   0  \n",
       "2161   0   0   0  \n",
       "2162   0   0   0  \n",
       "2163   0   0   0  \n",
       "2164   0   0   0  \n",
       "\n",
       "[5 rows x 37 columns]"
      ]
     },
     "execution_count": 29,
     "metadata": {},
     "output_type": "execute_result"
    }
   ],
   "source": [
    "data.head()"
   ]
  },
  {
   "cell_type": "code",
   "execution_count": 30,
   "id": "considerable-electricity",
   "metadata": {},
   "outputs": [],
   "source": [
    "# Finding outliers\n",
    "def outliers(x):\n",
    "    q1=x.quantile(0.25)\n",
    "    print(q1)\n",
    "    q3=x.quantile(0.75)\n",
    "    print(q3)\n",
    "    iqr=q3-q1\n",
    "    print(iqr)\n",
    "    lower=q1-1.5*iqr\n",
    "    print(lower)\n",
    "    upper= q3+1.5*iqr\n",
    "    print(upper)\n",
    "    print(min(x))\n",
    "    print(max(x))\n",
    "    out = x[(x < lower) | (x> upper)]\n",
    "    return out"
   ]
  },
  {
   "cell_type": "code",
   "execution_count": 31,
   "id": "median-correction",
   "metadata": {},
   "outputs": [
    {
     "name": "stdout",
     "output_type": "stream",
     "text": [
      "0.0\n",
      "0.9643650760992956\n",
      "0.9643650760992956\n",
      "-1.4465476141489433\n",
      "2.4109126902482387\n",
      "0.0\n",
      "1.876166303929372\n"
     ]
    },
    {
     "data": {
      "text/plain": [
       "0"
      ]
     },
     "execution_count": 31,
     "metadata": {},
     "output_type": "execute_result"
    }
   ],
   "source": [
    "outliers(np.sqrt(data[\"Solar Radiation (MJ/m2)\"])).count()"
   ]
  },
  {
   "cell_type": "code",
   "execution_count": 32,
   "id": "technical-short",
   "metadata": {},
   "outputs": [],
   "source": [
    "data[\"Solar Radiation (MJ/m2)\"] = np.sqrt(data[\"Solar Radiation (MJ/m2)\"])"
   ]
  },
  {
   "cell_type": "code",
   "execution_count": 33,
   "id": "grave-vatican",
   "metadata": {
    "scrolled": true
   },
   "outputs": [
    {
     "name": "stdout",
     "output_type": "stream",
     "text": [
      "0.9486832980505138\n",
      "1.51657508881031\n",
      "0.5678917907597962\n",
      "0.09684561191081942\n",
      "2.3684127749500044\n",
      "0.0\n",
      "2.7202941017470885\n"
     ]
    },
    {
     "data": {
      "text/plain": [
       "76"
      ]
     },
     "execution_count": 33,
     "metadata": {},
     "output_type": "execute_result"
    }
   ],
   "source": [
    "outliers(np.sqrt(data[\"Wind speed (m/s)\"])).count()"
   ]
  },
  {
   "cell_type": "code",
   "execution_count": 34,
   "id": "analyzed-diana",
   "metadata": {},
   "outputs": [
    {
     "data": {
      "text/plain": [
       "63"
      ]
     },
     "execution_count": 34,
     "metadata": {},
     "output_type": "execute_result"
    }
   ],
   "source": [
    "sum(data[\"Wind speed (m/s)\"]==0)"
   ]
  },
  {
   "cell_type": "code",
   "execution_count": 35,
   "id": "processed-plastic",
   "metadata": {},
   "outputs": [],
   "source": [
    "data[\"Wind speed (m/s)\"] = np.sqrt(data[\"Wind speed (m/s)\"])"
   ]
  },
  {
   "cell_type": "code",
   "execution_count": 36,
   "id": "ordinary-allocation",
   "metadata": {},
   "outputs": [],
   "source": [
    "# Caping outliers\n",
    "def cap(x):\n",
    "    q1=x.quantile(0.25)\n",
    "    q3=x.quantile(0.75)\n",
    "    iqr=q3-q1\n",
    "    low=q1-1.5*iqr\n",
    "    high=q3+1.5*iqr\n",
    "    a=[]\n",
    "    for i in x:\n",
    "        if(i<low):\n",
    "            a.append(low)\n",
    "        elif(i>high):\n",
    "            a.append(high)\n",
    "        else:\n",
    "            a.append(i)\n",
    "    return a"
   ]
  },
  {
   "cell_type": "code",
   "execution_count": 37,
   "id": "accomplished-bradley",
   "metadata": {},
   "outputs": [],
   "source": [
    "data[\"Wind speed (m/s)\"] = cap(data[\"Wind speed (m/s)\"])"
   ]
  },
  {
   "cell_type": "code",
   "execution_count": 38,
   "id": "immune-china",
   "metadata": {},
   "outputs": [],
   "source": [
    "def snowfall_intensity(x):\n",
    "    lst=[]\n",
    "    for i in x:\n",
    "        if(i>=0.5):\n",
    "            lst.append(2)\n",
    "        elif(i>=0.25):\n",
    "            lst.append(1)\n",
    "        else:\n",
    "            lst.append(0)\n",
    "    return lst"
   ]
  },
  {
   "cell_type": "code",
   "execution_count": 39,
   "id": "infinite-input",
   "metadata": {},
   "outputs": [],
   "source": [
    "data[\"descretezied_snowfall\"] = snowfall_intensity(data[\"Snowfall (cm)\"])"
   ]
  },
  {
   "cell_type": "code",
   "execution_count": 40,
   "id": "decimal-session",
   "metadata": {},
   "outputs": [],
   "source": [
    "def rainfall_intensity(x):\n",
    "    lst=[]\n",
    "    for i in x:\n",
    "        if(i>=4):\n",
    "            lst.append(2)\n",
    "        elif(i>=0.5):\n",
    "            lst.append(1)\n",
    "        else:\n",
    "            lst.append(0)\n",
    "    return lst"
   ]
  },
  {
   "cell_type": "code",
   "execution_count": 41,
   "id": "dynamic-stone",
   "metadata": {},
   "outputs": [],
   "source": [
    "data[\"descretezied_rainfall\"] = rainfall_intensity(data[\"Rainfall(mm)\"])"
   ]
  },
  {
   "cell_type": "code",
   "execution_count": 42,
   "id": "dependent-charter",
   "metadata": {},
   "outputs": [],
   "source": [
    "def feature_engg(x,y):\n",
    "    a=[]\n",
    "    b=[]\n",
    "    c=[]\n",
    "    i=0\n",
    "    while(i<len(x)):\n",
    "        a.append(((not x[i]) and (not y[i])) or (x[i] and y[i]))\n",
    "        b.append(x[i] or y[i])\n",
    "        c.append(x[i] and y[i])\n",
    "        i+=1\n",
    "    return labelencoder.fit_transform(a),labelencoder.fit_transform(b),labelencoder.fit_transform(c)"
   ]
  },
  {
   "cell_type": "code",
   "execution_count": 43,
   "id": "copyrighted-namibia",
   "metadata": {},
   "outputs": [],
   "source": [
    "data[\"feature_a\"],data[\"feature_b\"],data[\"feature_c\"] = feature_engg(data[\"Holiday\"].astype('bool'),\n",
    "                                                                     data[\"Functioning Day\"].astype('bool'))"
   ]
  },
  {
   "cell_type": "code",
   "execution_count": 44,
   "id": "sunset-trinidad",
   "metadata": {},
   "outputs": [],
   "source": [
    "data=data.drop(\"Snowfall (cm)\",axis=1)\n",
    "data=data.drop(\"Rainfall(mm)\",axis=1)"
   ]
  },
  {
   "cell_type": "code",
   "execution_count": 45,
   "id": "legitimate-trouble",
   "metadata": {},
   "outputs": [],
   "source": [
    "independent= data.iloc[:,1:]\n",
    "dependent= data.iloc[:,0]"
   ]
  },
  {
   "cell_type": "code",
   "execution_count": 46,
   "id": "moderate-playing",
   "metadata": {},
   "outputs": [],
   "source": [
    "independent = (independent-independent.min())/(independent.max()-independent.min())"
   ]
  },
  {
   "cell_type": "code",
   "execution_count": 47,
   "id": "bearing-gibson",
   "metadata": {
    "scrolled": true
   },
   "outputs": [
    {
     "data": {
      "text/html": [
       "<div>\n",
       "<style scoped>\n",
       "    .dataframe tbody tr th:only-of-type {\n",
       "        vertical-align: middle;\n",
       "    }\n",
       "\n",
       "    .dataframe tbody tr th {\n",
       "        vertical-align: top;\n",
       "    }\n",
       "\n",
       "    .dataframe thead th {\n",
       "        text-align: right;\n",
       "    }\n",
       "</style>\n",
       "<table border=\"1\" class=\"dataframe\">\n",
       "  <thead>\n",
       "    <tr style=\"text-align: right;\">\n",
       "      <th></th>\n",
       "      <th>Temperature(°C)</th>\n",
       "      <th>Humidity(%)</th>\n",
       "      <th>Wind speed (m/s)</th>\n",
       "      <th>Visibility (10m)</th>\n",
       "      <th>Dew point temperature(°C)</th>\n",
       "      <th>Solar Radiation (MJ/m2)</th>\n",
       "      <th>Holiday</th>\n",
       "      <th>Functioning Day</th>\n",
       "      <th>Spring</th>\n",
       "      <th>Summer</th>\n",
       "      <th>...</th>\n",
       "      <th>19</th>\n",
       "      <th>20</th>\n",
       "      <th>21</th>\n",
       "      <th>22</th>\n",
       "      <th>23</th>\n",
       "      <th>descretezied_snowfall</th>\n",
       "      <th>descretezied_rainfall</th>\n",
       "      <th>feature_a</th>\n",
       "      <th>feature_b</th>\n",
       "      <th>feature_c</th>\n",
       "    </tr>\n",
       "  </thead>\n",
       "  <tbody>\n",
       "    <tr>\n",
       "      <th>2160</th>\n",
       "      <td>0.346154</td>\n",
       "      <td>0.979592</td>\n",
       "      <td>0.459300</td>\n",
       "      <td>0.946275</td>\n",
       "      <td>0.553633</td>\n",
       "      <td>0.0</td>\n",
       "      <td>0.0</td>\n",
       "      <td>1.0</td>\n",
       "      <td>1.0</td>\n",
       "      <td>0.0</td>\n",
       "      <td>...</td>\n",
       "      <td>0.0</td>\n",
       "      <td>0.0</td>\n",
       "      <td>0.0</td>\n",
       "      <td>0.0</td>\n",
       "      <td>0.0</td>\n",
       "      <td>0.0</td>\n",
       "      <td>0.5</td>\n",
       "      <td>1.0</td>\n",
       "      <td>1.0</td>\n",
       "      <td>1.0</td>\n",
       "    </tr>\n",
       "    <tr>\n",
       "      <th>2161</th>\n",
       "      <td>0.347902</td>\n",
       "      <td>0.989796</td>\n",
       "      <td>0.154241</td>\n",
       "      <td>0.421693</td>\n",
       "      <td>0.557093</td>\n",
       "      <td>0.0</td>\n",
       "      <td>0.0</td>\n",
       "      <td>1.0</td>\n",
       "      <td>1.0</td>\n",
       "      <td>0.0</td>\n",
       "      <td>...</td>\n",
       "      <td>0.0</td>\n",
       "      <td>0.0</td>\n",
       "      <td>0.0</td>\n",
       "      <td>0.0</td>\n",
       "      <td>0.0</td>\n",
       "      <td>0.0</td>\n",
       "      <td>0.0</td>\n",
       "      <td>1.0</td>\n",
       "      <td>1.0</td>\n",
       "      <td>1.0</td>\n",
       "    </tr>\n",
       "    <tr>\n",
       "      <th>2162</th>\n",
       "      <td>0.346154</td>\n",
       "      <td>0.989796</td>\n",
       "      <td>0.397591</td>\n",
       "      <td>0.280284</td>\n",
       "      <td>0.555363</td>\n",
       "      <td>0.0</td>\n",
       "      <td>0.0</td>\n",
       "      <td>1.0</td>\n",
       "      <td>1.0</td>\n",
       "      <td>0.0</td>\n",
       "      <td>...</td>\n",
       "      <td>0.0</td>\n",
       "      <td>0.0</td>\n",
       "      <td>0.0</td>\n",
       "      <td>0.0</td>\n",
       "      <td>0.0</td>\n",
       "      <td>0.0</td>\n",
       "      <td>0.0</td>\n",
       "      <td>1.0</td>\n",
       "      <td>1.0</td>\n",
       "      <td>1.0</td>\n",
       "    </tr>\n",
       "    <tr>\n",
       "      <th>2163</th>\n",
       "      <td>0.339161</td>\n",
       "      <td>0.989796</td>\n",
       "      <td>0.625000</td>\n",
       "      <td>0.224024</td>\n",
       "      <td>0.548443</td>\n",
       "      <td>0.0</td>\n",
       "      <td>0.0</td>\n",
       "      <td>1.0</td>\n",
       "      <td>1.0</td>\n",
       "      <td>0.0</td>\n",
       "      <td>...</td>\n",
       "      <td>0.0</td>\n",
       "      <td>0.0</td>\n",
       "      <td>0.0</td>\n",
       "      <td>0.0</td>\n",
       "      <td>0.0</td>\n",
       "      <td>0.0</td>\n",
       "      <td>0.0</td>\n",
       "      <td>1.0</td>\n",
       "      <td>1.0</td>\n",
       "      <td>1.0</td>\n",
       "    </tr>\n",
       "    <tr>\n",
       "      <th>2164</th>\n",
       "      <td>0.339161</td>\n",
       "      <td>0.989796</td>\n",
       "      <td>0.419078</td>\n",
       "      <td>0.308667</td>\n",
       "      <td>0.548443</td>\n",
       "      <td>0.0</td>\n",
       "      <td>0.0</td>\n",
       "      <td>1.0</td>\n",
       "      <td>1.0</td>\n",
       "      <td>0.0</td>\n",
       "      <td>...</td>\n",
       "      <td>0.0</td>\n",
       "      <td>0.0</td>\n",
       "      <td>0.0</td>\n",
       "      <td>0.0</td>\n",
       "      <td>0.0</td>\n",
       "      <td>0.0</td>\n",
       "      <td>0.0</td>\n",
       "      <td>1.0</td>\n",
       "      <td>1.0</td>\n",
       "      <td>1.0</td>\n",
       "    </tr>\n",
       "  </tbody>\n",
       "</table>\n",
       "<p>5 rows × 39 columns</p>\n",
       "</div>"
      ],
      "text/plain": [
       "      Temperature(°C)  Humidity(%)  Wind speed (m/s)  Visibility (10m)  \\\n",
       "2160         0.346154     0.979592          0.459300          0.946275   \n",
       "2161         0.347902     0.989796          0.154241          0.421693   \n",
       "2162         0.346154     0.989796          0.397591          0.280284   \n",
       "2163         0.339161     0.989796          0.625000          0.224024   \n",
       "2164         0.339161     0.989796          0.419078          0.308667   \n",
       "\n",
       "      Dew point temperature(°C)  Solar Radiation (MJ/m2)  Holiday  \\\n",
       "2160                   0.553633                      0.0      0.0   \n",
       "2161                   0.557093                      0.0      0.0   \n",
       "2162                   0.555363                      0.0      0.0   \n",
       "2163                   0.548443                      0.0      0.0   \n",
       "2164                   0.548443                      0.0      0.0   \n",
       "\n",
       "      Functioning Day  Spring  Summer  ...   19   20   21   22   23  \\\n",
       "2160              1.0     1.0     0.0  ...  0.0  0.0  0.0  0.0  0.0   \n",
       "2161              1.0     1.0     0.0  ...  0.0  0.0  0.0  0.0  0.0   \n",
       "2162              1.0     1.0     0.0  ...  0.0  0.0  0.0  0.0  0.0   \n",
       "2163              1.0     1.0     0.0  ...  0.0  0.0  0.0  0.0  0.0   \n",
       "2164              1.0     1.0     0.0  ...  0.0  0.0  0.0  0.0  0.0   \n",
       "\n",
       "      descretezied_snowfall  descretezied_rainfall  feature_a  feature_b  \\\n",
       "2160                    0.0                    0.5        1.0        1.0   \n",
       "2161                    0.0                    0.0        1.0        1.0   \n",
       "2162                    0.0                    0.0        1.0        1.0   \n",
       "2163                    0.0                    0.0        1.0        1.0   \n",
       "2164                    0.0                    0.0        1.0        1.0   \n",
       "\n",
       "      feature_c  \n",
       "2160        1.0  \n",
       "2161        1.0  \n",
       "2162        1.0  \n",
       "2163        1.0  \n",
       "2164        1.0  \n",
       "\n",
       "[5 rows x 39 columns]"
      ]
     },
     "execution_count": 47,
     "metadata": {},
     "output_type": "execute_result"
    }
   ],
   "source": [
    "independent.head()"
   ]
  },
  {
   "cell_type": "code",
   "execution_count": 48,
   "id": "double-honolulu",
   "metadata": {
    "scrolled": true
   },
   "outputs": [
    {
     "data": {
      "text/plain": [
       "2160     71\n",
       "2161    147\n",
       "2162    180\n",
       "2163     92\n",
       "2164     28\n",
       "Name: Rented Bike Count, dtype: int64"
      ]
     },
     "execution_count": 48,
     "metadata": {},
     "output_type": "execute_result"
    }
   ],
   "source": [
    "dependent.head()"
   ]
  },
  {
   "cell_type": "code",
   "execution_count": 53,
   "id": "raised-prediction",
   "metadata": {},
   "outputs": [],
   "source": [
    "# import the method from libarary\n",
    "from sklearn.decomposition import PCA\n",
    "\n",
    "# using method create an alogrithm(same like as function)\n",
    "pca = PCA(n_components=36)#n_components=4"
   ]
  },
  {
   "cell_type": "code",
   "execution_count": 54,
   "id": "embedded-reviewer",
   "metadata": {},
   "outputs": [
    {
     "data": {
      "text/plain": [
       "array([[ 0.03581979,  0.74357151, -0.21722491, ..., -0.24863439,\n",
       "         0.01457124, -0.04133515],\n",
       "       [ 0.03868778,  0.80680518, -0.53083561, ..., -0.27875078,\n",
       "        -0.15209268, -0.03527367],\n",
       "       [ 0.04447164,  0.83197049, -0.54002072, ..., -0.23039623,\n",
       "        -0.12712894, -0.02998575],\n",
       "       ...,\n",
       "       [ 0.1897204 , -0.0314677 , -0.16595419, ..., -0.05746495,\n",
       "        -0.06200558, -0.0145649 ],\n",
       "       [ 0.19734081, -0.05038804, -0.07817068, ..., -0.04234128,\n",
       "        -0.05317948, -0.01125608],\n",
       "       [ 0.19490347, -0.05155658, -0.06963043, ..., -0.03466386,\n",
       "        -0.04796195, -0.00981104]])"
      ]
     },
     "execution_count": 54,
     "metadata": {},
     "output_type": "execute_result"
    }
   ],
   "source": [
    "pca_values = pca.fit_transform(independent)\n",
    "pca_values"
   ]
  },
  {
   "cell_type": "code",
   "execution_count": 55,
   "id": "dominican-petersburg",
   "metadata": {},
   "outputs": [
    {
     "data": {
      "text/html": [
       "<div>\n",
       "<style scoped>\n",
       "    .dataframe tbody tr th:only-of-type {\n",
       "        vertical-align: middle;\n",
       "    }\n",
       "\n",
       "    .dataframe tbody tr th {\n",
       "        vertical-align: top;\n",
       "    }\n",
       "\n",
       "    .dataframe thead th {\n",
       "        text-align: right;\n",
       "    }\n",
       "</style>\n",
       "<table border=\"1\" class=\"dataframe\">\n",
       "  <thead>\n",
       "    <tr style=\"text-align: right;\">\n",
       "      <th></th>\n",
       "      <th>0</th>\n",
       "      <th>1</th>\n",
       "      <th>2</th>\n",
       "      <th>3</th>\n",
       "      <th>4</th>\n",
       "      <th>5</th>\n",
       "      <th>6</th>\n",
       "      <th>7</th>\n",
       "      <th>8</th>\n",
       "      <th>9</th>\n",
       "      <th>...</th>\n",
       "      <th>26</th>\n",
       "      <th>27</th>\n",
       "      <th>28</th>\n",
       "      <th>29</th>\n",
       "      <th>30</th>\n",
       "      <th>31</th>\n",
       "      <th>32</th>\n",
       "      <th>33</th>\n",
       "      <th>34</th>\n",
       "      <th>35</th>\n",
       "    </tr>\n",
       "  </thead>\n",
       "  <tbody>\n",
       "    <tr>\n",
       "      <th>0</th>\n",
       "      <td>0.035820</td>\n",
       "      <td>0.743572</td>\n",
       "      <td>-0.217225</td>\n",
       "      <td>-0.155302</td>\n",
       "      <td>-0.282582</td>\n",
       "      <td>-0.181059</td>\n",
       "      <td>0.732776</td>\n",
       "      <td>0.613959</td>\n",
       "      <td>0.076309</td>\n",
       "      <td>0.011290</td>\n",
       "      <td>...</td>\n",
       "      <td>-0.010384</td>\n",
       "      <td>-0.016529</td>\n",
       "      <td>0.179231</td>\n",
       "      <td>-0.015689</td>\n",
       "      <td>0.530009</td>\n",
       "      <td>-0.081971</td>\n",
       "      <td>0.320933</td>\n",
       "      <td>-0.248634</td>\n",
       "      <td>0.014571</td>\n",
       "      <td>-0.041335</td>\n",
       "    </tr>\n",
       "    <tr>\n",
       "      <th>1</th>\n",
       "      <td>0.038688</td>\n",
       "      <td>0.806805</td>\n",
       "      <td>-0.530836</td>\n",
       "      <td>-0.229952</td>\n",
       "      <td>-0.018190</td>\n",
       "      <td>-0.097725</td>\n",
       "      <td>0.841588</td>\n",
       "      <td>0.543247</td>\n",
       "      <td>-0.143469</td>\n",
       "      <td>0.039832</td>\n",
       "      <td>...</td>\n",
       "      <td>-0.083282</td>\n",
       "      <td>0.588370</td>\n",
       "      <td>0.069867</td>\n",
       "      <td>0.004822</td>\n",
       "      <td>-0.064818</td>\n",
       "      <td>-0.119512</td>\n",
       "      <td>0.087457</td>\n",
       "      <td>-0.278751</td>\n",
       "      <td>-0.152093</td>\n",
       "      <td>-0.035274</td>\n",
       "    </tr>\n",
       "    <tr>\n",
       "      <th>2</th>\n",
       "      <td>0.044472</td>\n",
       "      <td>0.831970</td>\n",
       "      <td>-0.540021</td>\n",
       "      <td>-0.246835</td>\n",
       "      <td>0.109953</td>\n",
       "      <td>-0.113646</td>\n",
       "      <td>0.764849</td>\n",
       "      <td>0.621467</td>\n",
       "      <td>-0.190573</td>\n",
       "      <td>-0.072122</td>\n",
       "      <td>...</td>\n",
       "      <td>-0.073311</td>\n",
       "      <td>0.201633</td>\n",
       "      <td>0.093869</td>\n",
       "      <td>0.027985</td>\n",
       "      <td>-0.019344</td>\n",
       "      <td>0.096712</td>\n",
       "      <td>0.017296</td>\n",
       "      <td>-0.230396</td>\n",
       "      <td>-0.127129</td>\n",
       "      <td>-0.029986</td>\n",
       "    </tr>\n",
       "    <tr>\n",
       "      <th>3</th>\n",
       "      <td>0.055106</td>\n",
       "      <td>0.844261</td>\n",
       "      <td>-0.516349</td>\n",
       "      <td>-0.252339</td>\n",
       "      <td>0.168676</td>\n",
       "      <td>-0.143101</td>\n",
       "      <td>0.691992</td>\n",
       "      <td>0.680622</td>\n",
       "      <td>0.136296</td>\n",
       "      <td>-0.318792</td>\n",
       "      <td>...</td>\n",
       "      <td>-0.204202</td>\n",
       "      <td>0.020514</td>\n",
       "      <td>0.100911</td>\n",
       "      <td>0.049019</td>\n",
       "      <td>0.019177</td>\n",
       "      <td>0.287256</td>\n",
       "      <td>-0.058858</td>\n",
       "      <td>-0.205806</td>\n",
       "      <td>-0.108721</td>\n",
       "      <td>-0.025596</td>\n",
       "    </tr>\n",
       "    <tr>\n",
       "      <th>4</th>\n",
       "      <td>0.051313</td>\n",
       "      <td>0.828253</td>\n",
       "      <td>-0.528271</td>\n",
       "      <td>-0.247108</td>\n",
       "      <td>0.102179</td>\n",
       "      <td>-0.118937</td>\n",
       "      <td>0.757693</td>\n",
       "      <td>0.632059</td>\n",
       "      <td>-0.207877</td>\n",
       "      <td>0.063725</td>\n",
       "      <td>...</td>\n",
       "      <td>0.497448</td>\n",
       "      <td>-0.322962</td>\n",
       "      <td>0.098551</td>\n",
       "      <td>0.024155</td>\n",
       "      <td>-0.005799</td>\n",
       "      <td>0.110124</td>\n",
       "      <td>0.013518</td>\n",
       "      <td>-0.224378</td>\n",
       "      <td>-0.122341</td>\n",
       "      <td>-0.030159</td>\n",
       "    </tr>\n",
       "    <tr>\n",
       "      <th>...</th>\n",
       "      <td>...</td>\n",
       "      <td>...</td>\n",
       "      <td>...</td>\n",
       "      <td>...</td>\n",
       "      <td>...</td>\n",
       "      <td>...</td>\n",
       "      <td>...</td>\n",
       "      <td>...</td>\n",
       "      <td>...</td>\n",
       "      <td>...</td>\n",
       "      <td>...</td>\n",
       "      <td>...</td>\n",
       "      <td>...</td>\n",
       "      <td>...</td>\n",
       "      <td>...</td>\n",
       "      <td>...</td>\n",
       "      <td>...</td>\n",
       "      <td>...</td>\n",
       "      <td>...</td>\n",
       "      <td>...</td>\n",
       "      <td>...</td>\n",
       "    </tr>\n",
       "    <tr>\n",
       "      <th>8755</th>\n",
       "      <td>0.201283</td>\n",
       "      <td>-0.051604</td>\n",
       "      <td>0.070881</td>\n",
       "      <td>0.000857</td>\n",
       "      <td>-0.519037</td>\n",
       "      <td>0.213154</td>\n",
       "      <td>-0.307884</td>\n",
       "      <td>0.194536</td>\n",
       "      <td>0.296240</td>\n",
       "      <td>0.222589</td>\n",
       "      <td>...</td>\n",
       "      <td>-0.139917</td>\n",
       "      <td>0.089446</td>\n",
       "      <td>-0.022166</td>\n",
       "      <td>-0.123869</td>\n",
       "      <td>-0.143045</td>\n",
       "      <td>0.234115</td>\n",
       "      <td>0.166853</td>\n",
       "      <td>-0.048121</td>\n",
       "      <td>0.033702</td>\n",
       "      <td>-0.009635</td>\n",
       "    </tr>\n",
       "    <tr>\n",
       "      <th>8756</th>\n",
       "      <td>0.201134</td>\n",
       "      <td>-0.058642</td>\n",
       "      <td>0.039137</td>\n",
       "      <td>0.001925</td>\n",
       "      <td>-0.574540</td>\n",
       "      <td>0.214120</td>\n",
       "      <td>-0.283936</td>\n",
       "      <td>0.181974</td>\n",
       "      <td>0.180100</td>\n",
       "      <td>0.225300</td>\n",
       "      <td>...</td>\n",
       "      <td>0.270289</td>\n",
       "      <td>-0.109603</td>\n",
       "      <td>-0.005921</td>\n",
       "      <td>-0.123720</td>\n",
       "      <td>-0.124660</td>\n",
       "      <td>0.199060</td>\n",
       "      <td>0.155422</td>\n",
       "      <td>-0.044851</td>\n",
       "      <td>-0.028387</td>\n",
       "      <td>-0.008840</td>\n",
       "    </tr>\n",
       "    <tr>\n",
       "      <th>8757</th>\n",
       "      <td>0.189720</td>\n",
       "      <td>-0.031468</td>\n",
       "      <td>-0.165954</td>\n",
       "      <td>-0.034075</td>\n",
       "      <td>-0.421356</td>\n",
       "      <td>0.322974</td>\n",
       "      <td>-0.155002</td>\n",
       "      <td>0.093306</td>\n",
       "      <td>0.171893</td>\n",
       "      <td>-0.154724</td>\n",
       "      <td>...</td>\n",
       "      <td>0.125282</td>\n",
       "      <td>-0.141594</td>\n",
       "      <td>-0.063615</td>\n",
       "      <td>-0.145495</td>\n",
       "      <td>-0.343386</td>\n",
       "      <td>-0.047197</td>\n",
       "      <td>0.274506</td>\n",
       "      <td>-0.057465</td>\n",
       "      <td>-0.062006</td>\n",
       "      <td>-0.014565</td>\n",
       "    </tr>\n",
       "    <tr>\n",
       "      <th>8758</th>\n",
       "      <td>0.197341</td>\n",
       "      <td>-0.050388</td>\n",
       "      <td>-0.078171</td>\n",
       "      <td>-0.013932</td>\n",
       "      <td>-0.513771</td>\n",
       "      <td>0.289533</td>\n",
       "      <td>-0.091753</td>\n",
       "      <td>0.027243</td>\n",
       "      <td>-0.196244</td>\n",
       "      <td>-0.057053</td>\n",
       "      <td>...</td>\n",
       "      <td>0.007662</td>\n",
       "      <td>0.095765</td>\n",
       "      <td>0.011418</td>\n",
       "      <td>-0.128854</td>\n",
       "      <td>-0.179153</td>\n",
       "      <td>0.111740</td>\n",
       "      <td>0.208185</td>\n",
       "      <td>-0.042341</td>\n",
       "      <td>-0.053179</td>\n",
       "      <td>-0.011256</td>\n",
       "    </tr>\n",
       "    <tr>\n",
       "      <th>8759</th>\n",
       "      <td>0.194903</td>\n",
       "      <td>-0.051557</td>\n",
       "      <td>-0.069630</td>\n",
       "      <td>-0.011849</td>\n",
       "      <td>-0.517119</td>\n",
       "      <td>0.292709</td>\n",
       "      <td>-0.065151</td>\n",
       "      <td>0.007104</td>\n",
       "      <td>-0.205710</td>\n",
       "      <td>-0.142794</td>\n",
       "      <td>...</td>\n",
       "      <td>0.137714</td>\n",
       "      <td>0.105374</td>\n",
       "      <td>0.034744</td>\n",
       "      <td>-0.118766</td>\n",
       "      <td>-0.130138</td>\n",
       "      <td>0.165798</td>\n",
       "      <td>0.168012</td>\n",
       "      <td>-0.034664</td>\n",
       "      <td>-0.047962</td>\n",
       "      <td>-0.009811</td>\n",
       "    </tr>\n",
       "  </tbody>\n",
       "</table>\n",
       "<p>8760 rows × 36 columns</p>\n",
       "</div>"
      ],
      "text/plain": [
       "            0         1         2         3         4         5         6   \\\n",
       "0     0.035820  0.743572 -0.217225 -0.155302 -0.282582 -0.181059  0.732776   \n",
       "1     0.038688  0.806805 -0.530836 -0.229952 -0.018190 -0.097725  0.841588   \n",
       "2     0.044472  0.831970 -0.540021 -0.246835  0.109953 -0.113646  0.764849   \n",
       "3     0.055106  0.844261 -0.516349 -0.252339  0.168676 -0.143101  0.691992   \n",
       "4     0.051313  0.828253 -0.528271 -0.247108  0.102179 -0.118937  0.757693   \n",
       "...        ...       ...       ...       ...       ...       ...       ...   \n",
       "8755  0.201283 -0.051604  0.070881  0.000857 -0.519037  0.213154 -0.307884   \n",
       "8756  0.201134 -0.058642  0.039137  0.001925 -0.574540  0.214120 -0.283936   \n",
       "8757  0.189720 -0.031468 -0.165954 -0.034075 -0.421356  0.322974 -0.155002   \n",
       "8758  0.197341 -0.050388 -0.078171 -0.013932 -0.513771  0.289533 -0.091753   \n",
       "8759  0.194903 -0.051557 -0.069630 -0.011849 -0.517119  0.292709 -0.065151   \n",
       "\n",
       "            7         8         9   ...        26        27        28  \\\n",
       "0     0.613959  0.076309  0.011290  ... -0.010384 -0.016529  0.179231   \n",
       "1     0.543247 -0.143469  0.039832  ... -0.083282  0.588370  0.069867   \n",
       "2     0.621467 -0.190573 -0.072122  ... -0.073311  0.201633  0.093869   \n",
       "3     0.680622  0.136296 -0.318792  ... -0.204202  0.020514  0.100911   \n",
       "4     0.632059 -0.207877  0.063725  ...  0.497448 -0.322962  0.098551   \n",
       "...        ...       ...       ...  ...       ...       ...       ...   \n",
       "8755  0.194536  0.296240  0.222589  ... -0.139917  0.089446 -0.022166   \n",
       "8756  0.181974  0.180100  0.225300  ...  0.270289 -0.109603 -0.005921   \n",
       "8757  0.093306  0.171893 -0.154724  ...  0.125282 -0.141594 -0.063615   \n",
       "8758  0.027243 -0.196244 -0.057053  ...  0.007662  0.095765  0.011418   \n",
       "8759  0.007104 -0.205710 -0.142794  ...  0.137714  0.105374  0.034744   \n",
       "\n",
       "            29        30        31        32        33        34        35  \n",
       "0    -0.015689  0.530009 -0.081971  0.320933 -0.248634  0.014571 -0.041335  \n",
       "1     0.004822 -0.064818 -0.119512  0.087457 -0.278751 -0.152093 -0.035274  \n",
       "2     0.027985 -0.019344  0.096712  0.017296 -0.230396 -0.127129 -0.029986  \n",
       "3     0.049019  0.019177  0.287256 -0.058858 -0.205806 -0.108721 -0.025596  \n",
       "4     0.024155 -0.005799  0.110124  0.013518 -0.224378 -0.122341 -0.030159  \n",
       "...        ...       ...       ...       ...       ...       ...       ...  \n",
       "8755 -0.123869 -0.143045  0.234115  0.166853 -0.048121  0.033702 -0.009635  \n",
       "8756 -0.123720 -0.124660  0.199060  0.155422 -0.044851 -0.028387 -0.008840  \n",
       "8757 -0.145495 -0.343386 -0.047197  0.274506 -0.057465 -0.062006 -0.014565  \n",
       "8758 -0.128854 -0.179153  0.111740  0.208185 -0.042341 -0.053179 -0.011256  \n",
       "8759 -0.118766 -0.130138  0.165798  0.168012 -0.034664 -0.047962 -0.009811  \n",
       "\n",
       "[8760 rows x 36 columns]"
      ]
     },
     "execution_count": 55,
     "metadata": {},
     "output_type": "execute_result"
    }
   ],
   "source": [
    "#PCA Scores\n",
    "test = pd.DataFrame(pca_values)\n",
    "test"
   ]
  },
  {
   "cell_type": "code",
   "execution_count": 56,
   "id": "useful-jones",
   "metadata": {},
   "outputs": [
    {
     "data": {
      "text/plain": [
       "array([0.15851345, 0.12174656, 0.07706241, 0.06975646, 0.04512256,\n",
       "       0.02890442, 0.02136209, 0.02127845, 0.0196311 , 0.01959474,\n",
       "       0.0195734 , 0.01956535, 0.0195638 , 0.01956327, 0.01956311,\n",
       "       0.01956311, 0.01956311, 0.01956311, 0.01956311, 0.01956311,\n",
       "       0.01956311, 0.01956311, 0.01956311, 0.01956301, 0.01956295,\n",
       "       0.01956265, 0.01956226, 0.01954733, 0.01666317, 0.0127438 ,\n",
       "       0.01027524, 0.0089661 , 0.00721552, 0.00398102, 0.00248042,\n",
       "       0.00183549])"
      ]
     },
     "execution_count": 56,
     "metadata": {},
     "output_type": "execute_result"
    }
   ],
   "source": [
    "\n",
    "# The amount of variance that each PCA explains is \n",
    "var = pca.explained_variance_ratio_\n",
    "var"
   ]
  },
  {
   "cell_type": "code",
   "execution_count": 57,
   "id": "authentic-zambia",
   "metadata": {},
   "outputs": [],
   "source": [
    "#from sklearn.model_selection import train_test_split\n",
    "#x_train, x_test, y_train, y_test = train_test_split(independent,dependent, test_size=0.2, random_state=0)"
   ]
  },
  {
   "cell_type": "code",
   "execution_count": 58,
   "id": "prospective-endorsement",
   "metadata": {},
   "outputs": [],
   "source": [
    "from sklearn.model_selection import train_test_split\n",
    "x_train, x_test, y_train, y_test = train_test_split(test,dependent, test_size=0.2, random_state=0)"
   ]
  },
  {
   "cell_type": "code",
   "execution_count": 59,
   "id": "relevant-activation",
   "metadata": {},
   "outputs": [],
   "source": [
    "from sklearn.linear_model import LinearRegression # Step1\n",
    "from sklearn import metrics"
   ]
  },
  {
   "cell_type": "code",
   "execution_count": 60,
   "id": "settled-coral",
   "metadata": {
    "scrolled": true
   },
   "outputs": [
    {
     "data": {
      "text/plain": [
       "LinearRegression()"
      ]
     },
     "execution_count": 60,
     "metadata": {},
     "output_type": "execute_result"
    }
   ],
   "source": [
    "# Training the Algorithm\n",
    "regressor = LinearRegression()  # step 2\n",
    "regressor.fit(x_train, y_train) #training the algorithm"
   ]
  },
  {
   "cell_type": "code",
   "execution_count": 61,
   "id": "iraqi-county",
   "metadata": {},
   "outputs": [],
   "source": [
    "y_pred = regressor.predict(x_test)"
   ]
  },
  {
   "cell_type": "code",
   "execution_count": 62,
   "id": "expressed-exhibition",
   "metadata": {},
   "outputs": [
    {
     "name": "stdout",
     "output_type": "stream",
     "text": [
      "Root Mean Squared Error: 368.06001438511703\n"
     ]
    }
   ],
   "source": [
    "print('Root Mean Squared Error:', np.sqrt(metrics.mean_squared_error(y_test, y_pred)))"
   ]
  },
  {
   "cell_type": "code",
   "execution_count": null,
   "id": "medical-fossil",
   "metadata": {},
   "outputs": [],
   "source": []
  }
 ],
 "metadata": {
  "kernelspec": {
   "display_name": "Python 3",
   "language": "python",
   "name": "python3"
  },
  "language_info": {
   "codemirror_mode": {
    "name": "ipython",
    "version": 3
   },
   "file_extension": ".py",
   "mimetype": "text/x-python",
   "name": "python",
   "nbconvert_exporter": "python",
   "pygments_lexer": "ipython3",
   "version": "3.8.8"
  }
 },
 "nbformat": 4,
 "nbformat_minor": 5
}
